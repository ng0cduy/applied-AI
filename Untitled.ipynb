{
 "cells": [
  {
   "cell_type": "code",
   "execution_count": 1,
   "id": "9247189c-cbbc-4166-958d-6f1bc24ffd81",
   "metadata": {},
   "outputs": [],
   "source": [
    "import pandas as pd\n",
    "import torch\n",
    "import torch.nn as nn\n",
    "import torch.optim as optim\n",
    "from torch.utils.data import DataLoader, TensorDataset\n",
    "from sklearn.model_selection import train_test_split\n",
    "from sklearn.preprocessing import LabelEncoder\n",
    "from sklearn.feature_extraction.text import TfidfVectorizer\n",
    "from sklearn.metrics import precision_score, recall_score, f1_score\n",
    "import nltk\n",
    "from nltk.corpus import stopwords\n",
    "from nltk.tokenize import word_tokenize\n",
    "import re\n",
    "import matplotlib.pyplot as plt\n",
    "import numpy as np\n",
    "import os"
   ]
  },
  {
   "cell_type": "code",
   "execution_count": 2,
   "id": "65be4db6-1194-4449-b364-43c898ae05b8",
   "metadata": {},
   "outputs": [
    {
     "data": {
      "text/plain": [
       "device(type='cuda')"
      ]
     },
     "execution_count": 2,
     "metadata": {},
     "output_type": "execute_result"
    }
   ],
   "source": [
    "device = torch.device(\"cuda\" if torch.cuda.is_available() else \"cpu\")\n",
    "device"
   ]
  },
  {
   "cell_type": "code",
   "execution_count": 3,
   "id": "a7dabaa3-0904-4c47-9851-a6d15f04f1a7",
   "metadata": {},
   "outputs": [
    {
     "name": "stderr",
     "output_type": "stream",
     "text": [
      "[nltk_data] Downloading package punkt to\n",
      "[nltk_data]     /teamspace/studios/this_studio/nltk_data...\n",
      "[nltk_data]   Package punkt is already up-to-date!\n",
      "[nltk_data] Downloading package stopwords to\n",
      "[nltk_data]     /teamspace/studios/this_studio/nltk_data...\n",
      "[nltk_data]   Package stopwords is already up-to-date!\n"
     ]
    }
   ],
   "source": [
    "# Download stopwords\n",
    "nltk.download('punkt')\n",
    "nltk.download('stopwords')\n",
    "stop_words = set(stopwords.words('english'))"
   ]
  },
  {
   "cell_type": "code",
   "execution_count": 4,
   "id": "40159512-d9fa-420e-b959-bd36aed7c170",
   "metadata": {},
   "outputs": [],
   "source": [
    "# Load dataset\n",
    "data = pd.read_csv('Suicide_Detection.csv')"
   ]
  },
  {
   "cell_type": "code",
   "execution_count": 5,
   "id": "6de46688-3d56-4b60-a076-f65db9e66133",
   "metadata": {},
   "outputs": [],
   "source": [
    "# Preprocessing function\n",
    "def preprocess_text(text):\n",
    "    if isinstance(text, str):\n",
    "        text = text.lower()\n",
    "        text = re.sub(r'@\\w+', '', text)\n",
    "        text = re.sub(r'#\\w+', '', text)\n",
    "        text = re.sub(r'http\\S+', '', text)\n",
    "        text = re.sub(r'[^a-z\\s]', '', text)\n",
    "        # text = ' '.join(word for word in word_tokenize(text) if word not in stop_words)\n",
    "        text = ' '.join(word for word in text.split() if word not in stop_words)\n",
    "        return text\n",
    "    return ''"
   ]
  },
  {
   "cell_type": "code",
   "execution_count": 6,
   "id": "bd8b8616-d56e-4b6f-8487-5fffa4c9afae",
   "metadata": {},
   "outputs": [],
   "source": [
    "# Apply preprocessing\n",
    "data['cleaned_text'] = data['Tweet'].apply(preprocess_text)"
   ]
  },
  {
   "cell_type": "code",
   "execution_count": 7,
   "id": "81b7780c-3d45-48ca-a32a-59274074742d",
   "metadata": {},
   "outputs": [],
   "source": [
    "# Encode labels\n",
    "label_encoder = LabelEncoder()\n",
    "data['Suicide'] = label_encoder.fit_transform(data['Suicide'])"
   ]
  },
  {
   "cell_type": "code",
   "execution_count": 9,
   "id": "4c8f0071-3af7-4bf0-8b2d-870619058e70",
   "metadata": {},
   "outputs": [],
   "source": [
    "# Split dataset\n",
    "X_train, X_test, y_train, y_test = train_test_split(\n",
    "    data['cleaned_text'], data['Suicide'], test_size=0.2, random_state=42\n",
    ")"
   ]
  },
  {
   "cell_type": "code",
   "execution_count": 10,
   "id": "dbc27207-8698-4839-bc28-eacef03d6539",
   "metadata": {},
   "outputs": [],
   "source": [
    "# Vectorization with TF-IDF\n",
    "vectorizer = TfidfVectorizer(max_features=10000)\n",
    "X_train_vectorized = vectorizer.fit_transform(X_train).toarray()\n",
    "X_test_vectorized = vectorizer.transform(X_test).toarray()"
   ]
  },
  {
   "cell_type": "code",
   "execution_count": 12,
   "id": "7eb17d14-b800-4b20-8ab0-a003642851dd",
   "metadata": {},
   "outputs": [],
   "source": [
    "# Convert to NumPy arrays (sparse to dense conversion is efficient in batches)\n",
    "X_train_np = X_train_vectorized.astype(np.float32)\n",
    "X_test_np = X_test_vectorized.astype(np.float32)\n",
    "y_train_np = np.array(y_train.values, dtype=np.int64)\n",
    "y_test_np = np.array(y_test.values, dtype=np.int64)"
   ]
  },
  {
   "cell_type": "code",
   "execution_count": null,
   "id": "63755e87-599b-41d9-9841-2005e75e4c27",
   "metadata": {},
   "outputs": [],
   "source": [
    "# X_train_np = np.array(X_train_vectorized, dtype=np.float32)\n",
    "# y_train_np = np.array(y_train.values, dtype=np.int64)\n",
    "# X_test_np = np.array(X_test_vectorized, dtype=np.float32)\n",
    "# y_test_np = np.array(y_test.values, dtype=np.int64)"
   ]
  },
  {
   "cell_type": "code",
   "execution_count": 13,
   "id": "85b6e0c8-05cc-46c4-80b1-48f08204d696",
   "metadata": {},
   "outputs": [],
   "source": [
    "X_train_tensor = torch.tensor(X_train_np).to(device)\n",
    "y_train_tensor = torch.tensor(y_train_np).to(device)\n",
    "X_test_tensor = torch.tensor(X_test_np).to(device)\n",
    "y_test_tensor = torch.tensor(y_test_np).to(device)"
   ]
  },
  {
   "cell_type": "code",
   "execution_count": 14,
   "id": "1885b44d-97c4-4142-af8a-4c1f3d775be7",
   "metadata": {},
   "outputs": [],
   "source": [
    "# Use DataLoader for efficient batch processing\n",
    "train_dataset = TensorDataset(X_train_tensor, y_train_tensor)\n",
    "test_dataset = TensorDataset(X_test_tensor, y_test_tensor)\n",
    "\n",
    "train_loader = DataLoader(train_dataset, batch_size=64, shuffle=True)\n",
    "test_loader = DataLoader(test_dataset, batch_size=64, shuffle=False)"
   ]
  },
  {
   "cell_type": "code",
   "execution_count": 22,
   "id": "9bf219e2-beae-4792-9ee7-14f3385d5678",
   "metadata": {},
   "outputs": [
    {
     "name": "stdout",
     "output_type": "stream",
     "text": [
      "Number of Batches in Train DataLoader: 2901\n",
      "Batch Size: 64\n"
     ]
    }
   ],
   "source": [
    "# Check Dataloader Length\n",
    "print(f\"Number of Batches in Train DataLoader: {len(train_loader)}\")\n",
    "print(f\"Batch Size: {train_loader.batch_size}\")"
   ]
  },
  {
   "cell_type": "code",
   "execution_count": 15,
   "id": "1b0407f2-356b-4525-86fb-651ad490c856",
   "metadata": {},
   "outputs": [],
   "source": [
    "# Define LSTM Model\n",
    "class LSTMClassifier(nn.Module):\n",
    "    def __init__(self, input_size, hidden_size, num_classes, dropout_rate=0.5):\n",
    "        super(LSTMClassifier, self).__init__()\n",
    "        self.fc1 = nn.Linear(input_size, 128)\n",
    "        self.lstm = nn.LSTM(input_size=128, hidden_size=hidden_size, batch_first=True)\n",
    "        self.dropout = nn.Dropout(dropout_rate)\n",
    "        self.fc2 = nn.Linear(hidden_size, num_classes)\n",
    "    \n",
    "    def forward(self, x):\n",
    "        x = torch.relu(self.fc1(x))\n",
    "        x, (hn, _) = self.lstm(x.unsqueeze(1))\n",
    "        x = self.dropout(hn[-1])\n",
    "        x = self.fc2(x)\n",
    "        return x"
   ]
  },
  {
   "cell_type": "code",
   "execution_count": 16,
   "id": "bc0ed1ef-8ee9-4b46-9ee5-04ffadb1a826",
   "metadata": {},
   "outputs": [
    {
     "name": "stdout",
     "output_type": "stream",
     "text": [
      "10000\n"
     ]
    }
   ],
   "source": [
    "# Model initialization\n",
    "input_size = X_train_tensor.shape[1]\n",
    "print(input_size)\n",
    "hidden_size = 64\n",
    "num_classes = 2\n",
    "model = LSTMClassifier(input_size, hidden_size, num_classes).to(device)"
   ]
  },
  {
   "cell_type": "code",
   "execution_count": 17,
   "id": "31f463aa-10ec-48c7-b476-1a83ddb57878",
   "metadata": {},
   "outputs": [],
   "source": [
    "criterion = nn.CrossEntropyLoss()\n",
    "optimizer = optim.Adam(model.parameters(), lr=0.001)\n",
    "scaler = torch.cuda.amp.GradScaler()"
   ]
  },
  {
   "cell_type": "code",
   "execution_count": 18,
   "id": "755a84f5-65fc-4029-9188-b4adc308407a",
   "metadata": {},
   "outputs": [],
   "source": [
    "# Training loop with DataLoader and Gradient Scaling\n",
    "num_epochs = 25\n",
    "training_loss = []\n",
    "training_acc = []"
   ]
  },
  {
   "cell_type": "code",
   "execution_count": 19,
   "id": "84a4fc8a-e27b-4e49-a095-6ad65eecf47d",
   "metadata": {},
   "outputs": [],
   "source": [
    "os.makedirs('checkpoints', exist_ok=True)"
   ]
  },
  {
   "cell_type": "code",
   "execution_count": 23,
   "id": "83f89e32-edc6-4e53-864e-890a4ab3ec65",
   "metadata": {},
   "outputs": [
    {
     "name": "stdout",
     "output_type": "stream",
     "text": [
      "6.029979195287922\t2901\t185497\t185659\n",
      "Epoch [1/25], Loss: 6.0300, Accuracy: 99.91%\n",
      "5.236249476134525\t2901\t185502\t185659\n",
      "Epoch [2/25], Loss: 5.2362, Accuracy: 99.92%\n",
      "4.728542295679176\t2901\t185507\t185659\n",
      "Epoch [3/25], Loss: 4.7285, Accuracy: 99.92%\n",
      "4.854543195279803\t2901\t185507\t185659\n",
      "Epoch [4/25], Loss: 4.8545, Accuracy: 99.92%\n",
      "4.867768667638302\t2901\t185510\t185659\n",
      "Epoch [5/25], Loss: 4.8678, Accuracy: 99.92%\n",
      "4.982813546591899\t2901\t185509\t185659\n",
      "Epoch [6/25], Loss: 4.9828, Accuracy: 99.92%\n",
      "4.81091943648407\t2901\t185510\t185659\n",
      "Epoch [7/25], Loss: 4.8109, Accuracy: 99.92%\n",
      "5.99258941039443\t2901\t185493\t185659\n",
      "Epoch [8/25], Loss: 5.9926, Accuracy: 99.91%\n",
      "5.197805741265142\t2901\t185509\t185659\n",
      "Epoch [9/25], Loss: 5.1978, Accuracy: 99.92%\n",
      "4.71133917431205\t2901\t185506\t185659\n",
      "Epoch [10/25], Loss: 4.7113, Accuracy: 99.92%\n",
      "4.713211715919897\t2901\t185509\t185659\n",
      "Epoch [11/25], Loss: 4.7132, Accuracy: 99.92%\n",
      "4.893956515054075\t2901\t185502\t185659\n",
      "Epoch [12/25], Loss: 4.8940, Accuracy: 99.92%\n",
      "5.437506469282312\t2901\t185497\t185659\n",
      "Epoch [13/25], Loss: 5.4375, Accuracy: 99.91%\n",
      "4.79626530620385\t2901\t185514\t185659\n",
      "Epoch [14/25], Loss: 4.7963, Accuracy: 99.92%\n",
      "4.682598345297373\t2901\t185511\t185659\n",
      "Epoch [15/25], Loss: 4.6826, Accuracy: 99.92%\n",
      "5.1337031583475365\t2901\t185503\t185659\n",
      "Epoch [16/25], Loss: 5.1337, Accuracy: 99.92%\n",
      "4.950802503785087\t2901\t185503\t185659\n",
      "Epoch [17/25], Loss: 4.9508, Accuracy: 99.92%\n",
      "5.416280237957835\t2901\t185506\t185659\n",
      "Epoch [18/25], Loss: 5.4163, Accuracy: 99.92%\n",
      "4.909644070791742\t2901\t185507\t185659\n",
      "Epoch [19/25], Loss: 4.9096, Accuracy: 99.92%\n",
      "4.708889712595333\t2901\t185510\t185659\n",
      "Epoch [20/25], Loss: 4.7089, Accuracy: 99.92%\n",
      "4.931128516414411\t2901\t185510\t185659\n",
      "Epoch [21/25], Loss: 4.9311, Accuracy: 99.92%\n",
      "4.688500127707755\t2901\t185504\t185659\n",
      "Epoch [22/25], Loss: 4.6885, Accuracy: 99.92%\n",
      "4.854113480707599\t2901\t185504\t185659\n",
      "Epoch [23/25], Loss: 4.8541, Accuracy: 99.92%\n",
      "5.755964895994481\t2901\t185494\t185659\n",
      "Epoch [24/25], Loss: 5.7560, Accuracy: 99.91%\n",
      "4.995678221806884\t2901\t185509\t185659\n",
      "Epoch [25/25], Loss: 4.9957, Accuracy: 99.92%\n"
     ]
    }
   ],
   "source": [
    "for epoch in range(num_epochs):\n",
    "    model.train()\n",
    "    epoch_loss = 0\n",
    "    correct = 0\n",
    "    total = 0\n",
    "    \n",
    "    for X_batch, y_batch in train_loader:\n",
    "        optimizer.zero_grad()\n",
    "        with torch.cuda.amp.autocast():\n",
    "            outputs = model(X_batch)\n",
    "            loss = criterion(outputs, y_batch)\n",
    "        \n",
    "        scaler.scale(loss).backward()\n",
    "        scaler.step(optimizer)\n",
    "        scaler.update()\n",
    "        \n",
    "        epoch_loss += loss.item()\n",
    "        _, predicted = torch.max(outputs.data, 1)\n",
    "        total += y_batch.size(0)\n",
    "        correct += (predicted == y_batch).sum().item()\n",
    "    \n",
    "    acc = correct / total\n",
    "    print(f\"{epoch_loss}\\t{len(train_loader)}\\t{correct}\\t{total}\")\n",
    "    training_loss.append(epoch_loss / len(train_loader))\n",
    "    training_acc.append(acc)\n",
    "    \n",
    "    print(f'Epoch [{epoch+1}/{num_epochs}], Loss: {epoch_loss:.4f}, Accuracy: {acc*100:.2f}%')"
   ]
  },
  {
   "cell_type": "code",
   "execution_count": 25,
   "id": "e34da326-f655-4e59-9cc5-d18f6f52c86b",
   "metadata": {},
   "outputs": [
    {
     "name": "stdout",
     "output_type": "stream",
     "text": [
      "Sample Output (Raw Logits): tensor([[-25.3217,  25.0970],\n",
      "        [ 17.2560, -17.6153],\n",
      "        [-29.0649,  29.2397],\n",
      "        [ 32.7077, -33.5828],\n",
      "        [ 29.6142, -30.1499]], device='cuda:0')\n",
      "Target Labels: tensor([1, 0, 1, 0, 0], device='cuda:0')\n"
     ]
    }
   ],
   "source": [
    "with torch.no_grad():\n",
    "    sample_output = model(X_train_tensor[:5])\n",
    "    print(\"Sample Output (Raw Logits):\", sample_output)\n",
    "    print(\"Target Labels:\", y_train_tensor[:5])"
   ]
  },
  {
   "cell_type": "code",
   "execution_count": null,
   "id": "de4bc409-c072-4a36-9852-718ff3bbe642",
   "metadata": {},
   "outputs": [],
   "source": []
  }
 ],
 "metadata": {
  "kernelspec": {
   "display_name": "Python 3",
   "language": "python",
   "name": "python3"
  },
  "language_info": {
   "codemirror_mode": {
    "name": "ipython",
    "version": 3
   },
   "file_extension": ".py",
   "mimetype": "text/x-python",
   "name": "python",
   "nbconvert_exporter": "python",
   "pygments_lexer": "ipython3",
   "version": "3.10.10"
  }
 },
 "nbformat": 4,
 "nbformat_minor": 5
}
