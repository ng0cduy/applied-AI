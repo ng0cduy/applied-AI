{
 "cells": [
  {
   "cell_type": "code",
   "execution_count": 2,
   "metadata": {
    "_cell_guid": "b1076dfc-b9ad-4769-8c92-a6c4dae69d19",
    "_uuid": "8f2839f25d086af736a60e9eeb907d3b93b6e0e5",
    "execution": {
     "iopub.execute_input": "2025-01-08T11:27:26.217764Z",
     "iopub.status.busy": "2025-01-08T11:27:26.217287Z",
     "iopub.status.idle": "2025-01-08T11:27:26.222689Z",
     "shell.execute_reply": "2025-01-08T11:27:26.221619Z",
     "shell.execute_reply.started": "2025-01-08T11:27:26.217740Z"
    },
    "trusted": true
   },
   "outputs": [],
   "source": [
    "import torch\n",
    "import torch.nn as nn\n",
    "from torch.utils.data import Dataset, DataLoader\n",
    "from torchtext.vocab import build_vocab_from_iterator\n",
    "from torchtext.data.utils import get_tokenizer\n",
    "from sklearn.model_selection import train_test_split\n",
    "from sklearn.metrics import precision_recall_fscore_support, confusion_matrix\n",
    "import pandas as pd\n",
    "import numpy as np\n",
    "import time"
   ]
  },
  {
   "cell_type": "code",
   "execution_count": 3,
   "metadata": {
    "execution": {
     "iopub.execute_input": "2025-01-08T11:27:26.224422Z",
     "iopub.status.busy": "2025-01-08T11:27:26.224091Z",
     "iopub.status.idle": "2025-01-08T11:27:26.238710Z",
     "shell.execute_reply": "2025-01-08T11:27:26.238016Z",
     "shell.execute_reply.started": "2025-01-08T11:27:26.224392Z"
    },
    "trusted": true
   },
   "outputs": [],
   "source": [
    "def preprocess_data(data_path):\n",
    "    data = pd.read_csv(data_path)\n",
    "    data['label'] = data['Suicide'].map({'suicide': 1, 'non-suicide': 0})\n",
    "    data = data.dropna(subset=['Tweet', 'label'])\n",
    "    # Enhanced preprocessing\n",
    "    data['Tweet'] = data['Tweet'].str.lower()\n",
    "    data['Tweet'] = data['Tweet'].str.replace(r'http\\S+|www.\\S+', '', regex=True)  # Remove URLs\n",
    "    data['Tweet'] = data['Tweet'].str.replace(r'@\\w+', '@user', regex=True)  # Standardize mentions\n",
    "    data['Tweet'] = data['Tweet'].str.replace(r'[^\\w\\s]', '', regex=True)  # Remove special characters\n",
    "    return data"
   ]
  },
  {
   "cell_type": "code",
   "execution_count": 4,
   "metadata": {
    "execution": {
     "iopub.execute_input": "2025-01-08T11:27:26.240459Z",
     "iopub.status.busy": "2025-01-08T11:27:26.240125Z",
     "iopub.status.idle": "2025-01-08T11:27:26.253288Z",
     "shell.execute_reply": "2025-01-08T11:27:26.252426Z",
     "shell.execute_reply.started": "2025-01-08T11:27:26.240431Z"
    },
    "trusted": true
   },
   "outputs": [],
   "source": [
    "# Dataset class with proper padding\n",
    "class TextDataset(Dataset):\n",
    "    def __init__(self, texts, labels, vocab, tokenizer, MAX_LENGTH = 512):\n",
    "        self.texts = texts\n",
    "        self.labels = labels\n",
    "        self.vocab = vocab\n",
    "        self.tokenizer = tokenizer\n",
    "        self.max_length = MAX_LENGTH\n",
    "    def __len__(self):\n",
    "        return len(self.labels)\n",
    "\n",
    "    def __getitem__(self, idx):\n",
    "        tokens = self.tokenizer(self.texts.iloc[idx])\n",
    "        indices = [self.vocab[token] for token in tokens]\n",
    "\n",
    "        # Padding/truncating\n",
    "        if len(indices) < self.max_length:\n",
    "            indices = indices + [self.vocab['<pad>']] * (self.max_length - len(indices))\n",
    "        else:\n",
    "            indices = indices[:self.max_length]\n",
    "\n",
    "        return torch.tensor(indices, dtype=torch.long), torch.tensor(self.labels.iloc[idx], dtype=torch.long)"
   ]
  },
  {
   "cell_type": "code",
   "execution_count": 5,
   "metadata": {
    "execution": {
     "iopub.execute_input": "2025-01-08T11:27:26.254440Z",
     "iopub.status.busy": "2025-01-08T11:27:26.254252Z",
     "iopub.status.idle": "2025-01-08T11:27:26.273353Z",
     "shell.execute_reply": "2025-01-08T11:27:26.272607Z",
     "shell.execute_reply.started": "2025-01-08T11:27:26.254423Z"
    },
    "trusted": true
   },
   "outputs": [],
   "source": [
    "# Enhanced model with LSTM\n",
    "class TextClassificationModel(nn.Module):\n",
    "    def __init__(self, vocab_size, embed_dim, hidden_dim, num_classes, num_layers=2, dropout=0.5):\n",
    "        super(TextClassificationModel, self).__init__()\n",
    "        self.embedding = nn.Embedding(vocab_size, embed_dim, padding_idx=1)\n",
    "        self.lstm = nn.LSTM(embed_dim, hidden_dim, num_layers=num_layers,\n",
    "                           batch_first=True, bidirectional=True, dropout=dropout if num_layers > 1 else 0)\n",
    "        self.dropout = nn.Dropout(dropout)\n",
    "        self.fc = nn.Linear(hidden_dim * 2, num_classes)  # *2 for bidirectional\n",
    "\n",
    "    def forward(self, text):\n",
    "        embedded = self.embedding(text)\n",
    "        output, (hidden, cell) = self.lstm(embedded)\n",
    "        hidden = torch.cat((hidden[-2,:,:], hidden[-1,:,:]), dim=1)\n",
    "        hidden = self.dropout(hidden)\n",
    "        return self.fc(hidden)"
   ]
  },
  {
   "cell_type": "code",
   "execution_count": 6,
   "metadata": {
    "execution": {
     "iopub.execute_input": "2025-01-08T11:27:26.274446Z",
     "iopub.status.busy": "2025-01-08T11:27:26.274150Z",
     "iopub.status.idle": "2025-01-08T11:27:26.288207Z",
     "shell.execute_reply": "2025-01-08T11:27:26.287438Z",
     "shell.execute_reply.started": "2025-01-08T11:27:26.274414Z"
    },
    "trusted": true
   },
   "outputs": [],
   "source": [
    "def evaluate(model, dataloader, criterion, device):\n",
    "    model.eval()\n",
    "    total_loss = 0\n",
    "    correct = 0\n",
    "    total = 0\n",
    "\n",
    "    with torch.no_grad():\n",
    "        for texts, labels in dataloader:\n",
    "            texts, labels = texts.to(device), labels.to(device)\n",
    "            outputs = model(texts)\n",
    "            loss = criterion(outputs, labels)\n",
    "\n",
    "            total_loss += loss.item()\n",
    "            preds = outputs.argmax(1)\n",
    "            correct += (preds == labels).sum().item()\n",
    "            total += labels.size(0)\n",
    "\n",
    "    return total_loss / len(dataloader), correct / total"
   ]
  },
  {
   "cell_type": "code",
   "execution_count": 7,
   "metadata": {
    "execution": {
     "iopub.execute_input": "2025-01-08T11:27:26.289285Z",
     "iopub.status.busy": "2025-01-08T11:27:26.289034Z",
     "iopub.status.idle": "2025-01-08T11:27:26.307416Z",
     "shell.execute_reply": "2025-01-08T11:27:26.306710Z",
     "shell.execute_reply.started": "2025-01-08T11:27:26.289265Z"
    },
    "trusted": true
   },
   "outputs": [],
   "source": [
    "def train_model(model, train_dataloader, val_dataloader, criterion, optimizer,\n",
    "                device, num_epochs=25, patience=3):\n",
    "    best_val_loss = float('inf')\n",
    "    patience_counter = 0\n",
    "    train_acc_hist = []\n",
    "    train_loss_hist = []\n",
    "    val_loss_hist = []\n",
    "    val_acc_hist = []\n",
    "    for epoch in range(num_epochs):\n",
    "        # Training\n",
    "        start_time = time.time()\n",
    "        model.train()\n",
    "        total_loss = 0\n",
    "        correct = 0\n",
    "        total = 0\n",
    "\n",
    "        for texts, labels in train_dataloader:\n",
    "            texts, labels = texts.to(device), labels.to(device)\n",
    "            optimizer.zero_grad()\n",
    "            outputs = model(texts)\n",
    "            loss = criterion(outputs, labels)\n",
    "            loss.backward()\n",
    "            optimizer.step()\n",
    "\n",
    "            total_loss += loss.item()\n",
    "            preds = outputs.argmax(1)\n",
    "            correct += (preds == labels).sum().item()\n",
    "            total += labels.size(0)\n",
    "\n",
    "        train_loss = total_loss / len(train_dataloader)\n",
    "        train_acc = correct / total\n",
    "\n",
    "        # Validation\n",
    "        val_loss, val_acc = evaluate(model, val_dataloader, criterion, device)\n",
    "        # Calculate time elapsed\n",
    "        epoch_time = time.time() - start_time\n",
    "\n",
    "        print(f'Epoch {epoch+1}/{num_epochs}:')\n",
    "        print(f'Train Loss: {train_loss:.4f} | Train Acc: {train_acc:.4f}')\n",
    "        print(f'Val Loss: {val_loss:.4f} | Val Acc: {val_acc:.4f}')\n",
    "        print(f'Time Elapsed: {epoch_time:.2f} seconds')\n",
    "        train_acc_hist.append(train_acc)\n",
    "        train_loss_hist.append(train_loss)\n",
    "        val_acc_hist.append(val_acc)\n",
    "        val_loss_hist.append(val_loss)\n",
    "        # Early stopping\n",
    "        if val_loss < best_val_loss:\n",
    "            best_val_loss = val_loss\n",
    "            patience_counter = 0\n",
    "            torch.save(model.state_dict(), 'best_model.pt')\n",
    "        else:\n",
    "            patience_counter += 1\n",
    "            if patience_counter >= patience:\n",
    "                print('Early stopping triggered')\n",
    "                return epoch, train_acc_hist, train_loss_hist, val_acc_hist, val_loss_hist\n",
    "                break\n",
    "    return epoch, train_acc_hist, train_loss_hist, val_acc_hist, val_loss_hist\n"
   ]
  },
  {
   "cell_type": "code",
   "execution_count": 8,
   "metadata": {
    "execution": {
     "iopub.execute_input": "2025-01-08T11:27:26.308493Z",
     "iopub.status.busy": "2025-01-08T11:27:26.308229Z",
     "iopub.status.idle": "2025-01-08T11:27:26.325185Z",
     "shell.execute_reply": "2025-01-08T11:27:26.324500Z",
     "shell.execute_reply.started": "2025-01-08T11:27:26.308466Z"
    },
    "trusted": true
   },
   "outputs": [],
   "source": [
    "EMBED_DIM = 256\n",
    "HIDDEN_DIM = 128\n",
    "BATCH_SIZE = 512\n",
    "LEARNING_RATE = 1e-4\n",
    "MAX_LENGTH = 512"
   ]
  },
  {
   "cell_type": "code",
   "execution_count": 9,
   "metadata": {
    "execution": {
     "iopub.execute_input": "2025-01-08T11:27:26.404388Z",
     "iopub.status.busy": "2025-01-08T11:27:26.404137Z",
     "iopub.status.idle": "2025-01-08T11:27:26.431982Z",
     "shell.execute_reply": "2025-01-08T11:27:26.431128Z",
     "shell.execute_reply.started": "2025-01-08T11:27:26.404368Z"
    },
    "trusted": true
   },
   "outputs": [
    {
     "data": {
      "text/plain": [
       "device(type='cuda')"
      ]
     },
     "execution_count": 9,
     "metadata": {},
     "output_type": "execute_result"
    }
   ],
   "source": [
    "device = torch.device('cuda' if torch.cuda.is_available() else 'cpu')\n",
    "device"
   ]
  },
  {
   "cell_type": "code",
   "execution_count": 10,
   "metadata": {
    "execution": {
     "iopub.execute_input": "2025-01-08T11:27:26.433097Z",
     "iopub.status.busy": "2025-01-08T11:27:26.432904Z",
     "iopub.status.idle": "2025-01-08T11:27:34.503351Z",
     "shell.execute_reply": "2025-01-08T11:27:34.502588Z",
     "shell.execute_reply.started": "2025-01-08T11:27:26.433080Z"
    },
    "trusted": true
   },
   "outputs": [
    {
     "data": {
      "text/html": [
       "<div>\n",
       "<style scoped>\n",
       "    .dataframe tbody tr th:only-of-type {\n",
       "        vertical-align: middle;\n",
       "    }\n",
       "\n",
       "    .dataframe tbody tr th {\n",
       "        vertical-align: top;\n",
       "    }\n",
       "\n",
       "    .dataframe thead th {\n",
       "        text-align: right;\n",
       "    }\n",
       "</style>\n",
       "<table border=\"1\" class=\"dataframe\">\n",
       "  <thead>\n",
       "    <tr style=\"text-align: right;\">\n",
       "      <th></th>\n",
       "      <th>Tweet</th>\n",
       "      <th>Suicide</th>\n",
       "      <th>label</th>\n",
       "    </tr>\n",
       "  </thead>\n",
       "  <tbody>\n",
       "    <tr>\n",
       "      <th>0</th>\n",
       "      <td>ex wife threatening suiciderecently i left my ...</td>\n",
       "      <td>suicide</td>\n",
       "      <td>1</td>\n",
       "    </tr>\n",
       "    <tr>\n",
       "      <th>1</th>\n",
       "      <td>am i weird i dont get affected by compliments ...</td>\n",
       "      <td>non-suicide</td>\n",
       "      <td>0</td>\n",
       "    </tr>\n",
       "    <tr>\n",
       "      <th>2</th>\n",
       "      <td>finally 2020 is almost over so i can never hea...</td>\n",
       "      <td>non-suicide</td>\n",
       "      <td>0</td>\n",
       "    </tr>\n",
       "    <tr>\n",
       "      <th>3</th>\n",
       "      <td>i need helpjust help me im crying so hard</td>\n",
       "      <td>suicide</td>\n",
       "      <td>1</td>\n",
       "    </tr>\n",
       "    <tr>\n",
       "      <th>4</th>\n",
       "      <td>im so losthello my name is adam 16 and ive bee...</td>\n",
       "      <td>suicide</td>\n",
       "      <td>1</td>\n",
       "    </tr>\n",
       "  </tbody>\n",
       "</table>\n",
       "</div>"
      ],
      "text/plain": [
       "                                               Tweet      Suicide  label\n",
       "0  ex wife threatening suiciderecently i left my ...      suicide      1\n",
       "1  am i weird i dont get affected by compliments ...  non-suicide      0\n",
       "2  finally 2020 is almost over so i can never hea...  non-suicide      0\n",
       "3          i need helpjust help me im crying so hard      suicide      1\n",
       "4  im so losthello my name is adam 16 and ive bee...      suicide      1"
      ]
     },
     "execution_count": 10,
     "metadata": {},
     "output_type": "execute_result"
    }
   ],
   "source": [
    "data = preprocess_data('/kaggle/input/Suicide_Detection.csv')\n",
    "data.head()"
   ]
  },
  {
   "cell_type": "code",
   "execution_count": 11,
   "metadata": {
    "execution": {
     "iopub.execute_input": "2025-01-08T11:27:34.505072Z",
     "iopub.status.busy": "2025-01-08T11:27:34.504829Z",
     "iopub.status.idle": "2025-01-08T11:27:34.615890Z",
     "shell.execute_reply": "2025-01-08T11:27:34.615232Z",
     "shell.execute_reply.started": "2025-01-08T11:27:34.505051Z"
    },
    "trusted": true
   },
   "outputs": [],
   "source": [
    "train_texts, val_texts, train_labels, val_labels = train_test_split(\n",
    "        data['Tweet'], data['label'], test_size=0.2, random_state=42, stratify=data['label']\n",
    "    )"
   ]
  },
  {
   "cell_type": "code",
   "execution_count": 12,
   "metadata": {
    "execution": {
     "iopub.execute_input": "2025-01-08T11:27:34.617457Z",
     "iopub.status.busy": "2025-01-08T11:27:34.617114Z",
     "iopub.status.idle": "2025-01-08T11:27:47.661845Z",
     "shell.execute_reply": "2025-01-08T11:27:47.660933Z",
     "shell.execute_reply.started": "2025-01-08T11:27:34.617424Z"
    },
    "trusted": true
   },
   "outputs": [],
   "source": [
    "tokenizer = get_tokenizer('basic_english')\n",
    "vocab = build_vocab_from_iterator(\n",
    "        map(tokenizer, train_texts),\n",
    "        specials=['<unk>', '<pad>'],\n",
    "        min_freq=2)\n",
    "vocab.set_default_index(vocab['<unk>'])"
   ]
  },
  {
   "cell_type": "code",
   "execution_count": 13,
   "metadata": {
    "execution": {
     "iopub.execute_input": "2025-01-08T11:27:47.662919Z",
     "iopub.status.busy": "2025-01-08T11:27:47.662710Z",
     "iopub.status.idle": "2025-01-08T11:27:47.666596Z",
     "shell.execute_reply": "2025-01-08T11:27:47.665746Z",
     "shell.execute_reply.started": "2025-01-08T11:27:47.662902Z"
    },
    "trusted": true
   },
   "outputs": [],
   "source": [
    "train_dataset = TextDataset(train_texts, train_labels, vocab, tokenizer)\n",
    "val_dataset = TextDataset(val_texts, val_labels, vocab, tokenizer)"
   ]
  },
  {
   "cell_type": "code",
   "execution_count": 14,
   "metadata": {
    "execution": {
     "iopub.execute_input": "2025-01-08T11:27:47.667805Z",
     "iopub.status.busy": "2025-01-08T11:27:47.667495Z",
     "iopub.status.idle": "2025-01-08T11:27:47.684406Z",
     "shell.execute_reply": "2025-01-08T11:27:47.683638Z",
     "shell.execute_reply.started": "2025-01-08T11:27:47.667775Z"
    },
    "trusted": true
   },
   "outputs": [],
   "source": [
    "train_dataloader = DataLoader(train_dataset, batch_size=BATCH_SIZE, shuffle=True)\n",
    "val_dataloader = DataLoader(val_dataset, batch_size=BATCH_SIZE)"
   ]
  },
  {
   "cell_type": "code",
   "execution_count": 15,
   "metadata": {
    "execution": {
     "iopub.execute_input": "2025-01-08T11:27:47.685363Z",
     "iopub.status.busy": "2025-01-08T11:27:47.685103Z",
     "iopub.status.idle": "2025-01-08T11:27:48.976505Z",
     "shell.execute_reply": "2025-01-08T11:27:48.975845Z",
     "shell.execute_reply.started": "2025-01-08T11:27:47.685344Z"
    },
    "trusted": true
   },
   "outputs": [],
   "source": [
    "model = TextClassificationModel(\n",
    "    vocab_size=len(vocab),\n",
    "    embed_dim=EMBED_DIM,\n",
    "    hidden_dim=HIDDEN_DIM,\n",
    "    num_classes=2\n",
    ").to(device)"
   ]
  },
  {
   "cell_type": "code",
   "execution_count": 16,
   "metadata": {
    "execution": {
     "iopub.execute_input": "2025-01-08T11:27:48.978891Z",
     "iopub.status.busy": "2025-01-08T11:27:48.978642Z",
     "iopub.status.idle": "2025-01-08T12:31:12.242988Z",
     "shell.execute_reply": "2025-01-08T12:31:12.241860Z",
     "shell.execute_reply.started": "2025-01-08T11:27:48.978869Z"
    },
    "trusted": true
   },
   "outputs": [
    {
     "name": "stdout",
     "output_type": "stream",
     "text": [
      "Epoch 1/25:\n",
      "Train Loss: 0.4447 | Train Acc: 0.7872\n",
      "Val Loss: 0.3036 | Val Acc: 0.8807\n",
      "Time Elapsed: 238.58 seconds\n",
      "Epoch 2/25:\n",
      "Train Loss: 0.2689 | Train Acc: 0.8973\n",
      "Val Loss: 0.2434 | Val Acc: 0.9098\n",
      "Time Elapsed: 238.36 seconds\n",
      "Epoch 3/25:\n",
      "Train Loss: 0.2234 | Train Acc: 0.9152\n",
      "Val Loss: 0.2236 | Val Acc: 0.9194\n",
      "Time Elapsed: 237.05 seconds\n",
      "Epoch 4/25:\n",
      "Train Loss: 0.2007 | Train Acc: 0.9252\n",
      "Val Loss: 0.2074 | Val Acc: 0.9261\n",
      "Time Elapsed: 237.45 seconds\n",
      "Epoch 5/25:\n",
      "Train Loss: 0.1838 | Train Acc: 0.9317\n",
      "Val Loss: 0.1924 | Val Acc: 0.9315\n",
      "Time Elapsed: 236.83 seconds\n",
      "Epoch 6/25:\n",
      "Train Loss: 0.1680 | Train Acc: 0.9377\n",
      "Val Loss: 0.1831 | Val Acc: 0.9352\n",
      "Time Elapsed: 236.91 seconds\n",
      "Epoch 7/25:\n",
      "Train Loss: 0.1605 | Train Acc: 0.9412\n",
      "Val Loss: 0.1786 | Val Acc: 0.9372\n",
      "Time Elapsed: 237.29 seconds\n",
      "Epoch 8/25:\n",
      "Train Loss: 0.1471 | Train Acc: 0.9458\n",
      "Val Loss: 0.1676 | Val Acc: 0.9410\n",
      "Time Elapsed: 237.29 seconds\n",
      "Epoch 9/25:\n",
      "Train Loss: 0.1376 | Train Acc: 0.9497\n",
      "Val Loss: 0.1624 | Val Acc: 0.9423\n",
      "Time Elapsed: 237.60 seconds\n",
      "Epoch 10/25:\n",
      "Train Loss: 0.1293 | Train Acc: 0.9528\n",
      "Val Loss: 0.1582 | Val Acc: 0.9446\n",
      "Time Elapsed: 237.03 seconds\n",
      "Epoch 11/25:\n",
      "Train Loss: 0.1235 | Train Acc: 0.9553\n",
      "Val Loss: 0.1632 | Val Acc: 0.9442\n",
      "Time Elapsed: 237.45 seconds\n",
      "Epoch 12/25:\n",
      "Train Loss: 0.1152 | Train Acc: 0.9583\n",
      "Val Loss: 0.1550 | Val Acc: 0.9456\n",
      "Time Elapsed: 237.29 seconds\n",
      "Epoch 13/25:\n",
      "Train Loss: 0.1067 | Train Acc: 0.9617\n",
      "Val Loss: 0.1510 | Val Acc: 0.9481\n",
      "Time Elapsed: 237.43 seconds\n",
      "Epoch 14/25:\n",
      "Train Loss: 0.1054 | Train Acc: 0.9621\n",
      "Val Loss: 0.2109 | Val Acc: 0.9186\n",
      "Time Elapsed: 237.78 seconds\n",
      "Epoch 15/25:\n",
      "Train Loss: 0.1046 | Train Acc: 0.9619\n",
      "Val Loss: 0.1545 | Val Acc: 0.9482\n",
      "Time Elapsed: 237.88 seconds\n",
      "Epoch 16/25:\n",
      "Train Loss: 0.1053 | Train Acc: 0.9610\n",
      "Val Loss: 0.1797 | Val Acc: 0.9425\n",
      "Time Elapsed: 238.42 seconds\n",
      "Early stopping triggered\n"
     ]
    }
   ],
   "source": [
    "criterion = nn.CrossEntropyLoss()\n",
    "optimizer = torch.optim.AdamW(model.parameters(), lr=LEARNING_RATE)\n",
    "\n",
    "# Train model\n",
    "epoch, train_acc_hist, train_loss_hist, val_acc_hist, val_loss_hist = train_model(model, train_dataloader, val_dataloader, criterion, optimizer, device)"
   ]
  },
  {
   "cell_type": "code",
   "execution_count": 23,
   "metadata": {
    "execution": {
     "iopub.execute_input": "2025-01-08T12:37:20.509045Z",
     "iopub.status.busy": "2025-01-08T12:37:20.508749Z",
     "iopub.status.idle": "2025-01-08T12:37:20.512885Z",
     "shell.execute_reply": "2025-01-08T12:37:20.512118Z",
     "shell.execute_reply.started": "2025-01-08T12:37:20.509021Z"
    },
    "trusted": true
   },
   "outputs": [],
   "source": [
    "epochs = range(1, len(train_loss_hist) + 1)"
   ]
  },
  {
   "cell_type": "code",
   "execution_count": 24,
   "metadata": {
    "execution": {
     "iopub.execute_input": "2025-01-08T12:37:27.761321Z",
     "iopub.status.busy": "2025-01-08T12:37:27.760977Z",
     "iopub.status.idle": "2025-01-08T12:37:28.000107Z",
     "shell.execute_reply": "2025-01-08T12:37:27.999129Z",
     "shell.execute_reply.started": "2025-01-08T12:37:27.761292Z"
    },
    "trusted": true
   },
   "outputs": [
    {
     "data": {
      "image/png": "[encoded data removed]",
      "text/plain": [
       "<Figure size 1000x500 with 1 Axes>"
      ]
     },
     "metadata": {},
     "output_type": "display_data"
    }
   ],
   "source": [
    "# Loss Plot\n",
    "import matplotlib.pyplot as plt\n",
    "plt.figure(figsize=(10, 5))\n",
    "plt.plot(epochs, train_loss_hist, label='Train Loss')\n",
    "plt.plot(epochs, val_loss_hist, label='Val Loss')\n",
    "plt.xlabel('Epochs')\n",
    "plt.ylabel('Loss')\n",
    "plt.title('Loss over Epochs')\n",
    "plt.legend()\n",
    "plt.show()"
   ]
  },
  {
   "cell_type": "code",
   "execution_count": 25,
   "metadata": {
    "execution": {
     "iopub.execute_input": "2025-01-08T12:37:37.265691Z",
     "iopub.status.busy": "2025-01-08T12:37:37.265404Z",
     "iopub.status.idle": "2025-01-08T12:37:37.456018Z",
     "shell.execute_reply": "2025-01-08T12:37:37.455270Z",
     "shell.execute_reply.started": "2025-01-08T12:37:37.265667Z"
    },
    "trusted": true
   },
   "outputs": [
    {
     "data": {
      "image/png": "[encoded data removed]",
      "text/plain": [
       "<Figure size 1000x500 with 1 Axes>"
      ]
     },
     "metadata": {},
     "output_type": "display_data"
    }
   ],
   "source": [
    "plt.figure(figsize=(10, 5))\n",
    "plt.plot(epochs, train_acc_hist, label='Train Accuracy')\n",
    "plt.plot(epochs, val_acc_hist, label='Val Accuracy')\n",
    "plt.xlabel('Epochs')\n",
    "plt.ylabel('Accuracy')\n",
    "plt.title('Accuracy over Epochs')\n",
    "plt.legend()\n",
    "plt.show()"
   ]
  },
  {
   "cell_type": "code",
   "execution_count": null,
   "metadata": {
    "trusted": true
   },
   "outputs": [],
   "source": []
  }
 ],
 "metadata": {
  "kaggle": {
   "accelerator": "gpu",
   "dataSources": [
    {
     "datasetId": 6398889,
     "sourceId": 10334248,
     "sourceType": "datasetVersion"
    }
   ],
   "dockerImageVersionId": 30823,
   "isGpuEnabled": true,
   "isInternetEnabled": true,
   "language": "python",
   "sourceType": "notebook"
  },
  "kernelspec": {
   "display_name": "applied_AI",
   "language": "python",
   "name": "python3"
  },
  "language_info": {
   "codemirror_mode": {
    "name": "ipython",
    "version": 3
   },
   "file_extension": ".py",
   "mimetype": "text/x-python",
   "name": "python",
   "nbconvert_exporter": "python",
   "pygments_lexer": "ipython3",
   "version": "3.11.11"
  }
 },
 "nbformat": 4,
 "nbformat_minor": 4
}
